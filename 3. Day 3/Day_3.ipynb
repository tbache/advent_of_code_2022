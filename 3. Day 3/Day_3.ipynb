{
 "cells": [
  {
   "cell_type": "markdown",
   "id": "b7e5b579",
   "metadata": {},
   "source": [
    "# Advent of Code 2022 - Day 3"
   ]
  },
  {
   "cell_type": "code",
   "execution_count": 1,
   "id": "4e1b22d4",
   "metadata": {},
   "outputs": [],
   "source": [
    "# Read data\n",
    "with open('input.txt', 'r') as f:\n",
    "    data = f.read().strip().split('\\n')"
   ]
  },
  {
   "cell_type": "code",
   "execution_count": 2,
   "id": "80850551",
   "metadata": {},
   "outputs": [],
   "source": [
    "# Split each element of data in half to represent each compartment\n",
    "data = [[[c for c in s[0:int(len(s)/2)]], [c for c in s[int(len(s)/2):]]] for s in data]"
   ]
  },
  {
   "cell_type": "code",
   "execution_count": 3,
   "id": "4f91ff50",
   "metadata": {},
   "outputs": [
    {
     "data": {
      "text/plain": [
       "[['m', 'j', 'p', 's', 'H', 'c', 's', 's'],\n",
       " ['D', 'z', 'L', 'T', 'z', 'M', 's', 'z']]"
      ]
     },
     "execution_count": 3,
     "metadata": {},
     "output_type": "execute_result"
    }
   ],
   "source": [
    "data[0] # Two compartments now separated in each rucksacks"
   ]
  },
  {
   "cell_type": "code",
   "execution_count": 4,
   "id": "956338ec",
   "metadata": {},
   "outputs": [],
   "source": [
    "def get_ord(c):\n",
    "    \"\"\"\n",
    "    Converts digit to the priority based on the ord() value.\n",
    "    \"\"\"\n",
    "    if c == c.lower():\n",
    "        return ord(c)-96\n",
    "    elif c==c.upper():\n",
    "        return ord(c)-38\n",
    "    return -9999"
   ]
  },
  {
   "cell_type": "markdown",
   "id": "ce1a9bfb",
   "metadata": {},
   "source": [
    "## Part 1"
   ]
  },
  {
   "cell_type": "code",
   "execution_count": 5,
   "id": "7eb2d9b6",
   "metadata": {},
   "outputs": [
    {
     "name": "stdout",
     "output_type": "stream",
     "text": [
      "8123\n"
     ]
    }
   ],
   "source": [
    "# Check whether common letters are in each compartment of each rucksack\n",
    "sum_of_priorities = 0\n",
    "for rucksack in data:\n",
    "    # Find common letter between items in compartments\n",
    "    common_letter = list(set(rucksack[0]).intersection(rucksack[1]))[0]\n",
    "    # Convert to priority\n",
    "    priority = get_ord(common_letter)\n",
    "    sum_of_priorities += priority\n",
    "print(sum_of_priorities)"
   ]
  },
  {
   "cell_type": "markdown",
   "id": "08a0584f",
   "metadata": {},
   "source": [
    "## Part 2"
   ]
  },
  {
   "cell_type": "code",
   "execution_count": 6,
   "id": "0fc1fb6d",
   "metadata": {},
   "outputs": [],
   "source": [
    "# Recombine rucksack compartments\n",
    "data = [l[0]+l[1] for l in data]"
   ]
  },
  {
   "cell_type": "code",
   "execution_count": 7,
   "id": "4844d875",
   "metadata": {},
   "outputs": [
    {
     "name": "stdout",
     "output_type": "stream",
     "text": [
      "2620\n"
     ]
    }
   ],
   "source": [
    "# Check whether common letters are in three elves rucksacks\n",
    "sum_of_priorities = 0\n",
    "i=0\n",
    "while i<len(data):\n",
    "    # Find common letter between items in the three elves rucksacks\n",
    "    common_letter = list(set(set(data[i]).intersection(data[i+1])).intersection(data[i+2]))[0]\n",
    "    # Convert to priority\n",
    "    priority = get_ord(common_letter)\n",
    "    sum_of_priorities += priority\n",
    "    i+=3 # Move to next group of elves\n",
    "print(sum_of_priorities)"
   ]
  },
  {
   "cell_type": "code",
   "execution_count": null,
   "id": "a87d7f4d",
   "metadata": {},
   "outputs": [],
   "source": []
  }
 ],
 "metadata": {
  "kernelspec": {
   "display_name": "Python 3 (ipykernel)",
   "language": "python",
   "name": "python3"
  },
  "language_info": {
   "codemirror_mode": {
    "name": "ipython",
    "version": 3
   },
   "file_extension": ".py",
   "mimetype": "text/x-python",
   "name": "python",
   "nbconvert_exporter": "python",
   "pygments_lexer": "ipython3",
   "version": "3.9.7"
  }
 },
 "nbformat": 4,
 "nbformat_minor": 5
}
