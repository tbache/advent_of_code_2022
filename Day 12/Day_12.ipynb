{
 "cells": [
  {
   "cell_type": "markdown",
   "id": "7d994e8a",
   "metadata": {},
   "source": [
    "# Advent of Code 2022 - Day 12"
   ]
  },
  {
   "cell_type": "code",
   "execution_count": 8,
   "id": "eae3a1fc",
   "metadata": {},
   "outputs": [],
   "source": [
    "from collections import deque"
   ]
  },
  {
   "cell_type": "code",
   "execution_count": 9,
   "id": "3cd92b66",
   "metadata": {},
   "outputs": [],
   "source": [
    "# Read data\n",
    "with open('input.txt', 'r') as f:\n",
    "    data = f.read().strip().split('\\n')"
   ]
  },
  {
   "cell_type": "code",
   "execution_count": 10,
   "id": "d53cf236",
   "metadata": {},
   "outputs": [
    {
     "data": {
      "text/plain": [
       "['abccccccccccccccccaaccccccccccccccccccccaaaaaaaaaaaaacccccccccccccccccccccccccccccccccccccccccccccccccccccccaaaaaa',\n",
       " 'abcccccccccccccaaaaaccccccccccccccccccccaaaaaaaaaaaaaccccccccccccccccccccccccccccccccccccccccccccccccccccccccaaaaa']"
      ]
     },
     "execution_count": 10,
     "metadata": {},
     "output_type": "execute_result"
    }
   ],
   "source": [
    "data[0:2]"
   ]
  },
  {
   "cell_type": "code",
   "execution_count": 11,
   "id": "d3e6082d",
   "metadata": {},
   "outputs": [],
   "source": [
    "# Split each element in data into a list of characters\n",
    "data = [[c for c in s] for s in data]"
   ]
  },
  {
   "cell_type": "code",
   "execution_count": 6,
   "id": "ecbe07a2",
   "metadata": {},
   "outputs": [],
   "source": [
    "def find_pos(s):\n",
    "    \"\"\"\n",
    "    Find row and column position of character 's' in the data list.\n",
    "    \"\"\"\n",
    "    x, y = -999, -999\n",
    "    if any(s in (match := nested_list) for nested_list in data):\n",
    "        y = data.index(match)\n",
    "        x = match.index(s)\n",
    "    return [y, x]"
   ]
  },
  {
   "cell_type": "code",
   "execution_count": 7,
   "id": "d1cea3fa",
   "metadata": {},
   "outputs": [],
   "source": [
    "S = find_pos('S')"
   ]
  },
  {
   "cell_type": "code",
   "execution_count": 8,
   "id": "ed0d7730",
   "metadata": {},
   "outputs": [],
   "source": [
    "E = find_pos('E')"
   ]
  },
  {
   "cell_type": "code",
   "execution_count": 9,
   "id": "6ad5d8f4",
   "metadata": {},
   "outputs": [
    {
     "data": {
      "text/plain": [
       "([20, 0], [20, 91])"
      ]
     },
     "execution_count": 9,
     "metadata": {},
     "output_type": "execute_result"
    }
   ],
   "source": [
    "S, E"
   ]
  },
  {
   "cell_type": "code",
   "execution_count": 11,
   "id": "13f3c588",
   "metadata": {},
   "outputs": [],
   "source": [
    "# Change values at start and end positions from (S,E) to their respective heights\n",
    "data[S[0]][S[1]] = 1 # start position (lowest point possible)\n",
    "data[E[0]][E[1]] = 26 # end position (highest point possible)"
   ]
  },
  {
   "cell_type": "code",
   "execution_count": 12,
   "id": "ce525e2d",
   "metadata": {},
   "outputs": [],
   "source": [
    "# Convert letters to numbers representing the heights\n",
    "data = [[ord(char) - 96 if not isinstance(char, int) else char for char in s] for s in data]"
   ]
  },
  {
   "cell_type": "code",
   "execution_count": 14,
   "id": "b0badea9",
   "metadata": {
    "scrolled": true
   },
   "outputs": [],
   "source": [
    "R = len(data) # No. rows\n",
    "C = len(data[0]) # No. columns\n",
    "sr, sc = S[0], S[1] # start position\n",
    "rq, cq = deque(), deque() # Row and column queues (could do together but this helps readability)\n",
    "\n",
    "move_count = 0 # Number of moves before reaching end position\n",
    "nodes_left_in_layer = 1 # Tracks how many nodes need to be dequeued before taking a step\n",
    "nodes_in_next_layer = 0 # Tracks how many nodes were added in the breadth first search so we can update nodes_left_in_layer\n",
    "                        # in the next iteration\n",
    "\n",
    "reached_end = False # Tracks whether the highest point has been reached\n",
    "\n",
    "visited = [[False for i in range(len(data[0]))] for j in range(len(data))] # Tracks which nodes have already been visited\n",
    "                                                                           # (don't want to go back on ourselves)\n",
    "\n",
    "dr = [-1, +1, 0, 0] # South and North directions\n",
    "dc = [0, 0, +1, -1] # East and West directions\n",
    "\n",
    "def explore_neighbours(r, c):\n",
    "    \"\"\"\n",
    "    Checks each direction to see if that direction contains a node we can travel to.\n",
    "    \"\"\"\n",
    "    global data, rq, cq, visited, nodes_in_next_layer\n",
    "    for i in range(4):\n",
    "        rr = r + dr[i] # Row of neighbour node being investigated\n",
    "        cc = c + dc[i] # Column of neighbour node being investigated\n",
    "        \n",
    "        # Skip out of bounds nodes\n",
    "        if rr < 0 or cc < 0: continue\n",
    "        if rr >= R or cc >= C: continue\n",
    "            \n",
    "        # Skip nodes already visited\n",
    "        if visited[rr][cc]: continue\n",
    "            \n",
    "        # Skip neighbour nodes with value not 1 greater than current value as we can't travel to those\n",
    "        # We can however jump down to any node (so don't need < expression)\n",
    "        if data[rr][cc] - data[r][c] > 1: continue\n",
    "            \n",
    "        # Can travel to this node so add it to queue\n",
    "        rq.append(rr)\n",
    "        cq.append(cc)\n",
    "        visited[rr][cc] = True\n",
    "        nodes_in_next_layer += 1 # Increment so we know how many nodes will be investigated next\n",
    "        \n",
    "def solve():\n",
    "    \"\"\"\n",
    "    Manages overall queue and continues breadth first search until end is reached.\n",
    "    \"\"\"\n",
    "    global data, rq, cq, sr, sc, visited, nodes_left_in_layer, nodes_in_next_layer, move_count, reached_end\n",
    "    \n",
    "    # Add start position to queue\n",
    "    rq.append(sr)\n",
    "    cq.append(sc)\n",
    "    \n",
    "    # Don't want to revisit start position\n",
    "    visited[sr][sc] = True\n",
    "    \n",
    "    # Loop until queue is empty (i.e. no more neighbouring nodes to investigate)\n",
    "    while rq:\n",
    "        # Remove current node from front of queue\n",
    "        r = rq.popleft()\n",
    "        c = cq.popleft()\n",
    "        \n",
    "        # Check if end position is reached (technically checking whether point at same height as E is reached)\n",
    "        if r == E[0] and c == E[1]:\n",
    "            reached_end = True\n",
    "            break\n",
    "        \n",
    "        # Check this nodes neighbours and add those we can travel to to the queue\n",
    "        explore_neighbours(r, c)\n",
    "        # Checked this node so decrement nodes left in layer by 1\n",
    "        nodes_left_in_layer -= 1\n",
    "        \n",
    "        # If no more nodes left in this layer, move to next layer and increment move_count\n",
    "        if nodes_left_in_layer == 0:\n",
    "            nodes_left_in_layer = nodes_in_next_layer\n",
    "            nodes_in_next_layer = 0\n",
    "            move_count += 1\n",
    "    \n",
    "    # Once queue is empty, check we have reached the end position and return the number of moves\n",
    "    if reached_end:\n",
    "        return move_count\n",
    "    else: return -1\n"
   ]
  },
  {
   "cell_type": "markdown",
   "id": "91c6fd13",
   "metadata": {},
   "source": [
    "## Part 1"
   ]
  },
  {
   "cell_type": "code",
   "execution_count": 15,
   "id": "871d3688",
   "metadata": {},
   "outputs": [
    {
     "name": "stdout",
     "output_type": "stream",
     "text": [
      "425\n"
     ]
    }
   ],
   "source": [
    "sr, sc = S[0], S[1]\n",
    "print(solve())"
   ]
  },
  {
   "cell_type": "markdown",
   "id": "231ab986",
   "metadata": {},
   "source": [
    "## Part 2"
   ]
  },
  {
   "cell_type": "code",
   "execution_count": 16,
   "id": "5bbc737a",
   "metadata": {},
   "outputs": [
    {
     "name": "stdout",
     "output_type": "stream",
     "text": [
      "418\n"
     ]
    }
   ],
   "source": [
    "scores = [] # List to hold scores for all lowest elevation positions\n",
    "# Create list of tuples showing index of each lowest elevation position\n",
    "starts = [(i,j) for i in range(len(data)) for j in range(len(data[0])) if data[i][j]==1]\n",
    "\n",
    "# Loop over starts\n",
    "for (i,j) in starts:\n",
    "    # Set new start position\n",
    "    sr, sc = i, j\n",
    "    # Run solver and append to list\n",
    "    scores.append(solve())\n",
    "    # Reset global variables that are edited by solve()\n",
    "    move_count = 0\n",
    "    reached_end = False\n",
    "    nodes_left_in_layer = 1\n",
    "    nodes_in_next_layer = 0\n",
    "    visited = [[False for k in range(len(data[0]))] for l in range(len(data))]\n",
    "    rq, cq = deque(), deque()\n",
    "\n",
    "# Print minimum score that isn't equal to -1 (-1 means summit wasn't reached)\n",
    "print(min([s for s in scores if s!=-1]))"
   ]
  }
 ],
 "metadata": {
  "kernelspec": {
   "display_name": "Python 3 (ipykernel)",
   "language": "python",
   "name": "python3"
  },
  "language_info": {
   "codemirror_mode": {
    "name": "ipython",
    "version": 3
   },
   "file_extension": ".py",
   "mimetype": "text/x-python",
   "name": "python",
   "nbconvert_exporter": "python",
   "pygments_lexer": "ipython3",
   "version": "3.9.7"
  }
 },
 "nbformat": 4,
 "nbformat_minor": 5
}
