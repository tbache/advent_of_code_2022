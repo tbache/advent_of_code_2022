{
 "cells": [
  {
   "cell_type": "markdown",
   "id": "7b390b81",
   "metadata": {},
   "source": [
    "# Advent of Code 2022 - Day 4"
   ]
  },
  {
   "cell_type": "code",
   "execution_count": 1,
   "id": "250c9bf5",
   "metadata": {},
   "outputs": [],
   "source": [
    "# Read data\n",
    "with open('input.txt', 'r') as f:\n",
    "    data = f.read().strip()"
   ]
  },
  {
   "cell_type": "code",
   "execution_count": 2,
   "id": "02a3ebb4",
   "metadata": {},
   "outputs": [
    {
     "data": {
      "text/plain": [
       "'14-38,14-14\\n2-10,3-55\\n'"
      ]
     },
     "execution_count": 2,
     "metadata": {},
     "output_type": "execute_result"
    }
   ],
   "source": [
    "data[0:22]"
   ]
  },
  {
   "cell_type": "code",
   "execution_count": 3,
   "id": "15252b42",
   "metadata": {},
   "outputs": [],
   "source": [
    "data = data.split('\\n')"
   ]
  },
  {
   "cell_type": "code",
   "execution_count": 4,
   "id": "926a4d0f",
   "metadata": {},
   "outputs": [],
   "source": [
    "data = [s.split(',') for s in data]"
   ]
  },
  {
   "cell_type": "code",
   "execution_count": 5,
   "id": "149b6185",
   "metadata": {},
   "outputs": [],
   "source": [
    "data = [[s1.split('-'), s2.split('-')] for s1,s2 in data]"
   ]
  },
  {
   "cell_type": "code",
   "execution_count": 6,
   "id": "e22ba9a1",
   "metadata": {
    "scrolled": true
   },
   "outputs": [
    {
     "data": {
      "text/plain": [
       "[[['14', '38'], ['14', '14']],\n",
       " [['2', '10'], ['3', '55']],\n",
       " [['36', '90'], ['36', '46']],\n",
       " [['9', '97'], ['8', '87']],\n",
       " [['75', '92'], ['51', '92']],\n",
       " [['6', '82'], ['1', '83']],\n",
       " [['21', '79'], ['29', '80']],\n",
       " [['26', '66'], ['27', '27']],\n",
       " [['11', '32'], ['11', '32']],\n",
       " [['6', '90'], ['91', '91']]]"
      ]
     },
     "execution_count": 6,
     "metadata": {},
     "output_type": "execute_result"
    }
   ],
   "source": [
    "data[0:10]"
   ]
  },
  {
   "cell_type": "markdown",
   "id": "19deaac6",
   "metadata": {},
   "source": [
    "# Part 1"
   ]
  },
  {
   "cell_type": "code",
   "execution_count": 7,
   "id": "b4b8e20c",
   "metadata": {},
   "outputs": [
    {
     "name": "stdout",
     "output_type": "stream",
     "text": [
      "576\n"
     ]
    }
   ],
   "source": [
    "# Find number of assignment pairs where one range fully contains the other\n",
    "count = 0\n",
    "for comp in data:\n",
    "    r1, r2 = [], []    \n",
    "    r1 = set(range(int(comp[0][0]), int(comp[0][1])+1))\n",
    "    r2 = set(range(int(comp[1][0]), int(comp[1][1])+1))\n",
    "    if r1.issubset(r2) or r2.issubset(r1):\n",
    "        count = count + 1\n",
    "        \n",
    "print(count)"
   ]
  },
  {
   "cell_type": "markdown",
   "id": "82287d3f",
   "metadata": {},
   "source": [
    "# Part 2"
   ]
  },
  {
   "cell_type": "code",
   "execution_count": 8,
   "id": "4425e89c",
   "metadata": {},
   "outputs": [
    {
     "name": "stdout",
     "output_type": "stream",
     "text": [
      "905\n"
     ]
    }
   ],
   "source": [
    "# Find how many assignment pairs have overlapping ranges\n",
    "count = 0\n",
    "for comp in data:\n",
    "    r1 = list(range(int(comp[0][0]), int(comp[0][1])+1))\n",
    "    r2 = list(range(int(comp[1][0]), int(comp[1][1])+1))\n",
    "    count = count + any(i in r1 for i in r2)\n",
    "print(count)"
   ]
  }
 ],
 "metadata": {
  "kernelspec": {
   "display_name": "Python 3 (ipykernel)",
   "language": "python",
   "name": "python3"
  },
  "language_info": {
   "codemirror_mode": {
    "name": "ipython",
    "version": 3
   },
   "file_extension": ".py",
   "mimetype": "text/x-python",
   "name": "python",
   "nbconvert_exporter": "python",
   "pygments_lexer": "ipython3",
   "version": "3.9.7"
  }
 },
 "nbformat": 4,
 "nbformat_minor": 5
}
