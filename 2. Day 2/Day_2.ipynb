{
 "cells": [
  {
   "cell_type": "markdown",
   "id": "920e0879",
   "metadata": {},
   "source": [
    "# Advent of Code 2022 - Day 2"
   ]
  },
  {
   "cell_type": "markdown",
   "id": "603c4833",
   "metadata": {},
   "source": [
    "# Part 1"
   ]
  },
  {
   "cell_type": "code",
   "execution_count": 7,
   "id": "d8f553d6",
   "metadata": {},
   "outputs": [],
   "source": [
    "# Read data\n",
    "with open('input.txt', 'r') as f:\n",
    "    data = f.read()"
   ]
  },
  {
   "cell_type": "code",
   "execution_count": 3,
   "id": "719f0f78",
   "metadata": {},
   "outputs": [],
   "source": [
    "def get_shape_score(shape):\n",
    "    if shape == 'X': return 1\n",
    "    elif shape == 'Y': return 2\n",
    "    elif shape == 'Z': return 3\n",
    "    else: return -1"
   ]
  },
  {
   "cell_type": "code",
   "execution_count": 21,
   "id": "4d6f64aa",
   "metadata": {},
   "outputs": [],
   "source": [
    "def get_outcome_score(outcome):\n",
    "    if outcome == 'lose': return 0.\n",
    "    elif outcome == 'draw': return 3\n",
    "    elif outcome == 'win': return 6"
   ]
  },
  {
   "cell_type": "code",
   "execution_count": 5,
   "id": "eba94ddc",
   "metadata": {},
   "outputs": [],
   "source": [
    "def win_draw_lose(opp, me):\n",
    "    if opp == 'A' and me == 'X': return 'draw'\n",
    "    if opp == 'B' and me == 'Y': return 'draw'\n",
    "    if opp == 'C' and me == 'Z': return 'draw'\n",
    "    \n",
    "    if opp == 'A' and me == 'Z': return 'lose'\n",
    "    if me == 'X' and opp == 'C': return 'win'\n",
    "    \n",
    "    if opp == 'C' and me == 'Y': return 'lose'\n",
    "    if me == 'Z' and opp == 'B': return 'win'\n",
    "    \n",
    "    if opp == 'B' and me == 'X': return 'lose'\n",
    "    if me == 'Y' and opp == 'A': return 'win'"
   ]
  },
  {
   "cell_type": "code",
   "execution_count": 25,
   "id": "068e4ad6",
   "metadata": {},
   "outputs": [],
   "source": [
    "def get_score(shape, outcome):\n",
    "    return get_shape_score(shape) + outcome"
   ]
  },
  {
   "cell_type": "code",
   "execution_count": 42,
   "id": "1242b9d5",
   "metadata": {},
   "outputs": [
    {
     "data": {
      "text/plain": [
       "10994.0"
      ]
     },
     "execution_count": 42,
     "metadata": {},
     "output_type": "execute_result"
    }
   ],
   "source": [
    "# Get total score based on opponents move and my move\n",
    "score = 0\n",
    "for round in data[:-1].split('\\n'): # need to ignore final line break\n",
    "    opp, me = round.split()\n",
    "    #print(opp, me)\n",
    "    score = score + get_score(me, get_outcome_score(win_draw_lose(opp, me)))\n",
    "score"
   ]
  },
  {
   "cell_type": "markdown",
   "id": "16b36d70",
   "metadata": {},
   "source": [
    "# Part 2"
   ]
  },
  {
   "cell_type": "code",
   "execution_count": 44,
   "id": "c681e87b",
   "metadata": {},
   "outputs": [],
   "source": [
    "def choose_move(opp, outcome):\n",
    "    if opp == 'A' and outcome == 'X': return 'Z'\n",
    "    if opp == 'A' and outcome == 'Y': return 'X'\n",
    "    if opp == 'A' and outcome == 'Z': return 'Y'\n",
    "    \n",
    "    if opp == 'B' and outcome == 'X': return 'X'\n",
    "    if opp == 'B' and outcome == 'Y': return 'Y'\n",
    "    if opp == 'B' and outcome == 'Z': return 'Z'\n",
    "    \n",
    "    if opp == 'C' and outcome == 'X': return 'Y'\n",
    "    if opp == 'C' and outcome == 'Y': return 'Z'\n",
    "    if opp == 'C' and outcome == 'Z': return 'X'"
   ]
  },
  {
   "cell_type": "code",
   "execution_count": 45,
   "id": "edd4ef5f",
   "metadata": {},
   "outputs": [
    {
     "data": {
      "text/plain": [
       "'X'"
      ]
     },
     "execution_count": 45,
     "metadata": {},
     "output_type": "execute_result"
    }
   ],
   "source": [
    "choose_move('A','Y')"
   ]
  },
  {
   "cell_type": "code",
   "execution_count": 46,
   "id": "07bc90a0",
   "metadata": {},
   "outputs": [
    {
     "data": {
      "text/plain": [
       "12526.0"
      ]
     },
     "execution_count": 46,
     "metadata": {},
     "output_type": "execute_result"
    }
   ],
   "source": [
    "# Get total score based on opponents move and the outcome\n",
    "score = 0\n",
    "for round in data[:-1].split('\\n'):\n",
    "    opp, outcome = round.split()\n",
    "    #print(opp, me)\n",
    "    me = choose_move(opp,outcome)\n",
    "    score = score + get_score(me, get_outcome_score(win_draw_lose(opp, me)))\n",
    "score"
   ]
  },
  {
   "cell_type": "code",
   "execution_count": null,
   "id": "1bcf6635",
   "metadata": {},
   "outputs": [],
   "source": []
  }
 ],
 "metadata": {
  "kernelspec": {
   "display_name": "Python 3 (ipykernel)",
   "language": "python",
   "name": "python3"
  },
  "language_info": {
   "codemirror_mode": {
    "name": "ipython",
    "version": 3
   },
   "file_extension": ".py",
   "mimetype": "text/x-python",
   "name": "python",
   "nbconvert_exporter": "python",
   "pygments_lexer": "ipython3",
   "version": "3.9.7"
  }
 },
 "nbformat": 4,
 "nbformat_minor": 5
}
