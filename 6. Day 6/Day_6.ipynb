{
 "cells": [
  {
   "cell_type": "markdown",
   "id": "ad5ed29a",
   "metadata": {},
   "source": [
    "# Advent of Code 2022 - Day 6"
   ]
  },
  {
   "cell_type": "code",
   "execution_count": 1,
   "id": "6586a6b7",
   "metadata": {},
   "outputs": [],
   "source": [
    "# Read data\n",
    "with open('input.txt', 'r') as f:\n",
    "    data = f.read().strip()"
   ]
  },
  {
   "cell_type": "code",
   "execution_count": 2,
   "id": "54e7a244",
   "metadata": {},
   "outputs": [
    {
     "data": {
      "text/plain": [
       "'llqnqffqsqttfffbcfcbcbdcczccfssvwswrwddzlddpdhdwwl'"
      ]
     },
     "execution_count": 2,
     "metadata": {},
     "output_type": "execute_result"
    }
   ],
   "source": [
    "data[0:50]"
   ]
  },
  {
   "cell_type": "code",
   "execution_count": 35,
   "id": "58f9757f",
   "metadata": {},
   "outputs": [],
   "source": [
    "def start_of_marker(data, n_distinct):\n",
    "    # Loop over letters\n",
    "    for i,letter in enumerate(data):\n",
    "        if i<3: continue # Skip first 3 letters\n",
    "        same_letter_present = False\n",
    "    \n",
    "        # Test whether length of string containing unique characters is same as original string\n",
    "        if len(set(data[i-n_distinct:i])) != n_distinct:\n",
    "            same_letter_present = True\n",
    "            \n",
    "        if same_letter_present:\n",
    "            # Move to next letter\n",
    "            continue\n",
    "        else:\n",
    "            # Found start of marker. Print and break.\n",
    "            print(i)\n",
    "            for j in range(0,n_distinct):\n",
    "                print(data[i-j], end='')\n",
    "            break\n",
    "    return i"
   ]
  },
  {
   "cell_type": "markdown",
   "id": "774b08b1",
   "metadata": {},
   "source": [
    "## Part 1"
   ]
  },
  {
   "cell_type": "code",
   "execution_count": 36,
   "id": "a5cea972",
   "metadata": {},
   "outputs": [
    {
     "name": "stdout",
     "output_type": "stream",
     "text": [
      "1175\n",
      "lsgh"
     ]
    },
    {
     "data": {
      "text/plain": [
       "1175"
      ]
     },
     "execution_count": 36,
     "metadata": {},
     "output_type": "execute_result"
    }
   ],
   "source": [
    "start_of_marker(data, 4)"
   ]
  },
  {
   "cell_type": "markdown",
   "id": "6b36f352",
   "metadata": {},
   "source": [
    "## Part 2"
   ]
  },
  {
   "cell_type": "code",
   "execution_count": 37,
   "id": "804098ac",
   "metadata": {},
   "outputs": [
    {
     "name": "stdout",
     "output_type": "stream",
     "text": [
      "3217\n",
      "mscjfdvmzblrpg"
     ]
    },
    {
     "data": {
      "text/plain": [
       "3217"
      ]
     },
     "execution_count": 37,
     "metadata": {},
     "output_type": "execute_result"
    }
   ],
   "source": [
    "start_of_marker(data, 14)"
   ]
  },
  {
   "cell_type": "code",
   "execution_count": null,
   "id": "202417e5",
   "metadata": {},
   "outputs": [],
   "source": []
  }
 ],
 "metadata": {
  "kernelspec": {
   "display_name": "Python 3 (ipykernel)",
   "language": "python",
   "name": "python3"
  },
  "language_info": {
   "codemirror_mode": {
    "name": "ipython",
    "version": 3
   },
   "file_extension": ".py",
   "mimetype": "text/x-python",
   "name": "python",
   "nbconvert_exporter": "python",
   "pygments_lexer": "ipython3",
   "version": "3.9.7"
  }
 },
 "nbformat": 4,
 "nbformat_minor": 5
}
