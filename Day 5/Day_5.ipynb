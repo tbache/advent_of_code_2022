{
 "cells": [
  {
   "cell_type": "markdown",
   "id": "1e98cf77",
   "metadata": {},
   "source": [
    "# Advent of Code 2022 - Day 5"
   ]
  },
  {
   "cell_type": "code",
   "execution_count": 1,
   "id": "25a81e9a",
   "metadata": {},
   "outputs": [],
   "source": [
    "# Read step data\n",
    "with open('input.txt', 'r') as f:\n",
    "    data = f.read().split('\\n')"
   ]
  },
  {
   "cell_type": "code",
   "execution_count": 2,
   "id": "60895634",
   "metadata": {},
   "outputs": [
    {
     "data": {
      "text/plain": [
       "['move 5 from 4 to 9',\n",
       " 'move 3 from 5 to 1',\n",
       " 'move 12 from 9 to 6',\n",
       " 'move 1 from 6 to 9',\n",
       " 'move 3 from 2 to 8']"
      ]
     },
     "execution_count": 2,
     "metadata": {},
     "output_type": "execute_result"
    }
   ],
   "source": [
    "data[0:5]"
   ]
  },
  {
   "cell_type": "markdown",
   "id": "3c52fb69",
   "metadata": {},
   "source": [
    "## Part 1"
   ]
  },
  {
   "cell_type": "code",
   "execution_count": 3,
   "id": "881008cf",
   "metadata": {},
   "outputs": [
    {
     "name": "stdout",
     "output_type": "stream",
     "text": [
      "['B', 'P', 'N', 'Q', 'H', 'D', 'R', 'T']\n",
      "['W', 'G', 'B', 'J', 'T', 'V']\n",
      "['N', 'R', 'H', 'D', 'S', 'V', 'M', 'Q']\n",
      "['P', 'Z', 'N', 'M', 'C']\n",
      "['D', 'Z', 'B']\n",
      "['V', 'C', 'W', 'Z']\n",
      "['G', 'Z', 'N', 'C', 'V', 'Q', 'L', 'S']\n",
      "['L', 'G', 'J', 'M', 'D', 'N', 'V']\n",
      "['T', 'P', 'M', 'F', 'Z', 'C', 'G']\n",
      "\n"
     ]
    }
   ],
   "source": [
    "# Create stacks\n",
    "stacks = ['T R D H Q N P B'.split(),\n",
    "         'V T J B G W'.split(),\n",
    "         'Q M V S D H R N'.split(),\n",
    "         'C M N Z P'.split(),\n",
    "         'B Z D'.split(),\n",
    "         'Z W C V'.split(), \n",
    "         'S L Q V C N Z G'.split(),\n",
    "         'V N D M J G L'.split(),\n",
    "         'G C Z F M P T'.split()]\n",
    "\n",
    "for i, s in enumerate(stacks):\n",
    "    stacks[i] = list(reversed(s)) # Reverse so top crate is at end of each sublist\n",
    "\n",
    "for s in stacks:\n",
    "    print(s)\n",
    "print()\n",
    "\n",
    "# Loop over steps\n",
    "for step in data:\n",
    "    # Get moves\n",
    "    step = step.split()\n",
    "    number_to_move = int(step[1])\n",
    "    start = int(step[3]) - 1\n",
    "    end = int(step[5]) - 1\n",
    "\n",
    "    # Copy crates from start to end, reversing the order\n",
    "    stacks[end] = stacks[end]+list(reversed(stacks[start][-number_to_move:]))\n",
    "    # Remove copied crates from start\n",
    "    stacks[start] = stacks[start][:len(stacks[start])-number_to_move]"
   ]
  },
  {
   "cell_type": "code",
   "execution_count": 4,
   "id": "ea87898a",
   "metadata": {},
   "outputs": [
    {
     "name": "stdout",
     "output_type": "stream",
     "text": [
      "ZBDRNPMVH"
     ]
    }
   ],
   "source": [
    "# Get top crate from each stack\n",
    "for s in stacks:\n",
    "    print(s[-1], end='')"
   ]
  },
  {
   "cell_type": "markdown",
   "id": "eb3ba18a",
   "metadata": {},
   "source": [
    "## Part 2"
   ]
  },
  {
   "cell_type": "code",
   "execution_count": 5,
   "id": "ecccd3a1",
   "metadata": {},
   "outputs": [
    {
     "name": "stdout",
     "output_type": "stream",
     "text": [
      "['B', 'P', 'N', 'Q', 'H', 'D', 'R', 'T']\n",
      "['W', 'G', 'B', 'J', 'T', 'V']\n",
      "['N', 'R', 'H', 'D', 'S', 'V', 'M', 'Q']\n",
      "['P', 'Z', 'N', 'M', 'C']\n",
      "['D', 'Z', 'B']\n",
      "['V', 'C', 'W', 'Z']\n",
      "['G', 'Z', 'N', 'C', 'V', 'Q', 'L', 'S']\n",
      "['L', 'G', 'J', 'M', 'D', 'N', 'V']\n",
      "['T', 'P', 'M', 'F', 'Z', 'C', 'G']\n",
      "\n"
     ]
    }
   ],
   "source": [
    "# Create stacks\n",
    "stacks = ['T R D H Q N P B'.split(),\n",
    "         'V T J B G W'.split(),\n",
    "         'Q M V S D H R N'.split(),\n",
    "         'C M N Z P'.split(),\n",
    "         'B Z D'.split(),\n",
    "         'Z W C V'.split(), \n",
    "         'S L Q V C N Z G'.split(),\n",
    "         'V N D M J G L'.split(),\n",
    "         'G C Z F M P T'.split()]\n",
    "\n",
    "for i, s in enumerate(stacks):\n",
    "    stacks[i] = list(reversed(s)) # Reverse so top crate is at end of each sublist\n",
    "\n",
    "for s in stacks:\n",
    "    print(s)\n",
    "print()\n",
    "\n",
    "# Loop over steps\n",
    "for step in data:\n",
    "    # Get moves\n",
    "    step = step.split()\n",
    "    number_to_move = int(step[1])\n",
    "    start = int(step[3]) - 1\n",
    "    end = int(step[5]) - 1\n",
    "\n",
    "    # Copy crates from start to end, keeping the same order\n",
    "    stacks[end] = stacks[end]+list(stacks[start][-number_to_move:])\n",
    "    # Remove copied crates from start\n",
    "    stacks[start] = stacks[start][:len(stacks[start])-number_to_move]"
   ]
  },
  {
   "cell_type": "code",
   "execution_count": 6,
   "id": "0fbbb56e",
   "metadata": {},
   "outputs": [
    {
     "name": "stdout",
     "output_type": "stream",
     "text": [
      "WDLPFNNNB"
     ]
    }
   ],
   "source": [
    "# Get top crate from each stack\n",
    "for s in stacks:\n",
    "    print(s[-1], end='')"
   ]
  }
 ],
 "metadata": {
  "kernelspec": {
   "display_name": "Python 3 (ipykernel)",
   "language": "python",
   "name": "python3"
  },
  "language_info": {
   "codemirror_mode": {
    "name": "ipython",
    "version": 3
   },
   "file_extension": ".py",
   "mimetype": "text/x-python",
   "name": "python",
   "nbconvert_exporter": "python",
   "pygments_lexer": "ipython3",
   "version": "3.9.7"
  }
 },
 "nbformat": 4,
 "nbformat_minor": 5
}
