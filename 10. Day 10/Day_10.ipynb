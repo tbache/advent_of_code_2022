{
 "cells": [
  {
   "cell_type": "markdown",
   "id": "88a39627",
   "metadata": {},
   "source": [
    "# Advent of Code 2022 - Day 10"
   ]
  },
  {
   "cell_type": "code",
   "execution_count": 1,
   "id": "da1fb700",
   "metadata": {},
   "outputs": [],
   "source": [
    "# Read data\n",
    "with open('input.txt', 'r') as f:\n",
    "    data = f.read().strip().split('\\n')"
   ]
  },
  {
   "cell_type": "code",
   "execution_count": 5,
   "id": "3e57e8e0",
   "metadata": {},
   "outputs": [
    {
     "data": {
      "text/plain": [
       "['noop',\n",
       " 'addx 25',\n",
       " 'addx -5',\n",
       " 'addx -14',\n",
       " 'addx 4',\n",
       " 'noop',\n",
       " 'addx 2',\n",
       " 'addx 3',\n",
       " 'noop',\n",
       " 'noop',\n",
       " 'noop',\n",
       " 'noop',\n",
       " 'addx 3',\n",
       " 'addx 5',\n",
       " 'addx 2',\n",
       " 'noop',\n",
       " 'noop',\n",
       " 'addx 5',\n",
       " 'noop',\n",
       " 'noop']"
      ]
     },
     "execution_count": 5,
     "metadata": {},
     "output_type": "execute_result"
    }
   ],
   "source": [
    "data[0:20]"
   ]
  },
  {
   "cell_type": "code",
   "execution_count": 68,
   "id": "4d0b693f",
   "metadata": {},
   "outputs": [
    {
     "data": {
      "text/plain": [
       "['addx 26', 'addx -1', 'noop', 'noop', 'noop', 'noop']"
      ]
     },
     "execution_count": 68,
     "metadata": {},
     "output_type": "execute_result"
    }
   ],
   "source": [
    "data[-6:]"
   ]
  },
  {
   "cell_type": "code",
   "execution_count": 100,
   "id": "70731088",
   "metadata": {},
   "outputs": [],
   "source": [
    "def find_sprite_ref_overlap(crt, cycle, X):\n",
    "    # Move crt to next line if end of line reached (40 characters)\n",
    "    if cycle%40 == 0: crt.append('\\n')\n",
    "    # Write # if cycle is in same position as X (+/-1), else write ' '\n",
    "    crt.append('#' if abs((cycle%40)-X) < 2 else ' ')\n",
    "    return crt"
   ]
  },
  {
   "cell_type": "code",
   "execution_count": 104,
   "id": "a1455c87",
   "metadata": {},
   "outputs": [
    {
     "name": "stdout",
     "output_type": "stream",
     "text": [
      "Part 1 14620\n",
      "\n",
      "Part 2: \n",
      "###    ## #### ###  #  # ###  #### #  # \n",
      "#  #    # #    #  # #  # #  # #    #  # \n",
      "###     # ###  #  # #### #  # ###  #  # \n",
      "#  #    # #    ###  #  # ###  #    #  # \n",
      "#  # #  # #    # #  #  # # #  #    #  # \n",
      "###   ##  #    #  # #  # #  # #     ##  \n"
     ]
    }
   ],
   "source": [
    "cycle = 0 # Cycle number\n",
    "X = 1 # Sprite reference position\n",
    "interesting_cycles = [20, 60, 100, 140, 180, 220]\n",
    "strength = 0 # Signal strength (value we're trying to compute)\n",
    "crt = [] # CRT position (holds lit up channels as '#')\n",
    "\n",
    "# Loop over the instructions\n",
    "for j, instruction in enumerate(data):   \n",
    "    computed_strength = False\n",
    "    if instruction == 'noop':\n",
    "        # Increment cycle by one and find the overlap\n",
    "        crt = find_sprite_ref_overlap(crt, cycle, X)\n",
    "        cycle = cycle + 1\n",
    "        \n",
    "    elif instruction.startswith('addx'):\n",
    "        for i in range(2): # Cycle increases twice when addx is called\n",
    "            crt = find_sprite_ref_overlap(crt, cycle, X)\n",
    "            cycle = cycle + 1\n",
    "            if cycle in interesting_cycles:\n",
    "                strength = strength + cycle*X\n",
    "                computed_strength = True\n",
    "            \n",
    "        X = X + int(instruction.split()[1])\n",
    "    \n",
    "    if not computed_strength:\n",
    "        # Haven't already found interesting cycle, check now\n",
    "        if cycle in interesting_cycles:\n",
    "            strength = strength + cycle*X\n",
    "        \n",
    "print('Part 1', strength)\n",
    "print('\\nPart 2:', ''.join(crt))"
   ]
  },
  {
   "cell_type": "code",
   "execution_count": null,
   "id": "0ef237f1",
   "metadata": {},
   "outputs": [],
   "source": []
  }
 ],
 "metadata": {
  "kernelspec": {
   "display_name": "Python 3 (ipykernel)",
   "language": "python",
   "name": "python3"
  },
  "language_info": {
   "codemirror_mode": {
    "name": "ipython",
    "version": 3
   },
   "file_extension": ".py",
   "mimetype": "text/x-python",
   "name": "python",
   "nbconvert_exporter": "python",
   "pygments_lexer": "ipython3",
   "version": "3.9.7"
  }
 },
 "nbformat": 4,
 "nbformat_minor": 5
}
