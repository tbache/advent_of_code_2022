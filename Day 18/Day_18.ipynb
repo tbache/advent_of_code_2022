{
 "cells": [
  {
   "cell_type": "markdown",
   "id": "de8235a4",
   "metadata": {},
   "source": [
    "# Advent of Code 2022 - Day 18"
   ]
  },
  {
   "cell_type": "code",
   "execution_count": 31,
   "id": "67dbdf38",
   "metadata": {},
   "outputs": [],
   "source": [
    "# Read data\n",
    "with open('input.txt', 'r') as f:\n",
    "    data = f.read().strip().split('\\n')"
   ]
  },
  {
   "cell_type": "code",
   "execution_count": 32,
   "id": "1dc31217",
   "metadata": {},
   "outputs": [
    {
     "data": {
      "text/plain": [
       "['4,15,12', '16,10,16', '15,15,10', '14,11,16', '5,7,15']"
      ]
     },
     "execution_count": 32,
     "metadata": {},
     "output_type": "execute_result"
    }
   ],
   "source": [
    "data[:5]"
   ]
  },
  {
   "cell_type": "code",
   "execution_count": 33,
   "id": "9df0c5e5",
   "metadata": {},
   "outputs": [],
   "source": [
    "# Split further and convert to ints\n",
    "data = [[int(i) for i in cell.split(',')] for cell in data]"
   ]
  },
  {
   "cell_type": "code",
   "execution_count": 34,
   "id": "dc4c4c55",
   "metadata": {},
   "outputs": [
    {
     "data": {
      "text/plain": [
       "[[4, 15, 12], [16, 10, 16], [15, 15, 10], [14, 11, 16], [5, 7, 15]]"
      ]
     },
     "execution_count": 34,
     "metadata": {},
     "output_type": "execute_result"
    }
   ],
   "source": [
    "data[:5]"
   ]
  },
  {
   "cell_type": "code",
   "execution_count": 35,
   "id": "ceef9ce1",
   "metadata": {},
   "outputs": [
    {
     "name": "stdout",
     "output_type": "stream",
     "text": [
      "Result: 3542\n"
     ]
    }
   ],
   "source": [
    "exposed = 0 # Number of sides on outside of droplet\n",
    "for i,cell in enumerate(data):\n",
    "    x1,y1,z1 = cell\n",
    "    sides = 6 # Number of sides on cube\n",
    "    \n",
    "    # Loop over cells again to compare them with current cell\n",
    "    for j, comp_cell in enumerate(data):\n",
    "        # Skip if comparing to itself\n",
    "        if i==j: continue\n",
    "        \n",
    "        x2,y2,z2 = comp_cell\n",
    "        \n",
    "        # Calculate manhattan distance\n",
    "        manhattan = abs(x1-x2) + abs(y1-y2) + abs(z1-z2)\n",
    "        \n",
    "        # If manhattan <= 1, cells are adjacent to each other\n",
    "        if manhattan <= 1:\n",
    "            # Decrease number of exposed sides on this cell\n",
    "            sides -= 1\n",
    "\n",
    "    # Increase number of exposed cells by number of sides exposed for this cell\n",
    "    exposed += sides\n",
    "\n",
    "            \n",
    "print(\"Result:\", exposed)                \n",
    "    "
   ]
  },
  {
   "cell_type": "code",
   "execution_count": null,
   "id": "d8e5effc",
   "metadata": {},
   "outputs": [],
   "source": []
  }
 ],
 "metadata": {
  "kernelspec": {
   "display_name": "Python 3 (ipykernel)",
   "language": "python",
   "name": "python3"
  },
  "language_info": {
   "codemirror_mode": {
    "name": "ipython",
    "version": 3
   },
   "file_extension": ".py",
   "mimetype": "text/x-python",
   "name": "python",
   "nbconvert_exporter": "python",
   "pygments_lexer": "ipython3",
   "version": "3.9.7"
  }
 },
 "nbformat": 4,
 "nbformat_minor": 5
}
