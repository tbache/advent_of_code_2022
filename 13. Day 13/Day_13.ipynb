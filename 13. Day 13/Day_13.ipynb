{
 "cells": [
  {
   "cell_type": "markdown",
   "id": "21272136",
   "metadata": {},
   "source": [
    "# Advent of Code 2022 - Day 13"
   ]
  },
  {
   "cell_type": "code",
   "execution_count": 1,
   "id": "737c5ed4",
   "metadata": {},
   "outputs": [],
   "source": [
    "# Read data\n",
    "with open('input.txt', 'r') as f:\n",
    "    data = f.read().strip().split('\\n\\n')"
   ]
  },
  {
   "cell_type": "code",
   "execution_count": 2,
   "id": "1e5ded2d",
   "metadata": {},
   "outputs": [
    {
     "data": {
      "text/plain": [
       "['[[[6,10],[4,3,[4]]]]\\n[[4,3,[[4,9,9,7]]]]',\n",
       " '[[6,[[3,10],[],[],2,10],[[6,8,4,2]]],[]]\\n[[6,[],[2,[6,2],5]]]']"
      ]
     },
     "execution_count": 2,
     "metadata": {},
     "output_type": "execute_result"
    }
   ],
   "source": [
    "data[:2]"
   ]
  },
  {
   "cell_type": "code",
   "execution_count": 3,
   "id": "f1921cc6",
   "metadata": {},
   "outputs": [],
   "source": [
    "data = [s.split('\\n') for s in data]"
   ]
  },
  {
   "cell_type": "code",
   "execution_count": 4,
   "id": "41d89f7b",
   "metadata": {},
   "outputs": [
    {
     "data": {
      "text/plain": [
       "[['[[[6,10],[4,3,[4]]]]', '[[4,3,[[4,9,9,7]]]]'],\n",
       " ['[[6,[[3,10],[],[],2,10],[[6,8,4,2]]],[]]', '[[6,[],[2,[6,2],5]]]']]"
      ]
     },
     "execution_count": 4,
     "metadata": {},
     "output_type": "execute_result"
    }
   ],
   "source": [
    "data[:2]"
   ]
  },
  {
   "cell_type": "markdown",
   "id": "e4b35aeb",
   "metadata": {},
   "source": [
    "## Part 1"
   ]
  },
  {
   "cell_type": "code",
   "execution_count": 5,
   "id": "fc5a842d",
   "metadata": {},
   "outputs": [],
   "source": [
    "# Convert each element in data from a string into a list of pairs of packets\n",
    "data_part1 = [[eval(s) for s in l] for l in data]"
   ]
  },
  {
   "cell_type": "code",
   "execution_count": 6,
   "id": "74d40c87",
   "metadata": {},
   "outputs": [
    {
     "data": {
      "text/plain": [
       "[[[[[6, 10], [4, 3, [4]]]], [[4, 3, [[4, 9, 9, 7]]]]],\n",
       " [[[6, [[3, 10], [], [], 2, 10], [[6, 8, 4, 2]]], []],\n",
       "  [[6, [], [2, [6, 2], 5]]]]]"
      ]
     },
     "execution_count": 6,
     "metadata": {},
     "output_type": "execute_result"
    }
   ],
   "source": [
    "data_part1[:2]"
   ]
  },
  {
   "cell_type": "code",
   "execution_count": 7,
   "id": "cdb3ca71",
   "metadata": {},
   "outputs": [],
   "source": [
    "def cmp(left, right):\n",
    "    \"\"\"\n",
    "    Recursive function that tests type of left and right.\n",
    "    - If both are integers, difference between them is used to test whether left<right.\n",
    "    - If left is an integer and right is a list, the function is called again with [left] instead of left.\n",
    "    - If right is an integer and left is a list, the function is called again with [right] instead of right.\n",
    "    - If both are lists, the elements of each are looked at and the function is called again with each element.\n",
    "      This continues until either two integers are left (in which case, right-left will be returned) or two lists\n",
    "      with identical types contained within (up to length of shortest list) are left (in which case, len(right)-len(left)\n",
    "      will be returned.\n",
    "    \"\"\"\n",
    "    if isinstance(left, int) and isinstance(right, int):\n",
    "        # Both integers, return difference between them\n",
    "        return right - left\n",
    "    elif isinstance(left, int) and isinstance(right, list):\n",
    "        # Rerun function using [left]\n",
    "        return cmp([left], right)\n",
    "    elif isinstance(left, list) and isinstance(right, int):\n",
    "        # Rerun function using [right]\n",
    "        return cmp(left, [right])\n",
    "    elif isinstance(left, list) and isinstance(right, list):\n",
    "        # Loop over both lists\n",
    "        for l,r in zip(left, right):\n",
    "            # Rerun function using element from each list\n",
    "            if (check_nested_lists := cmp(l,r)) != 0:\n",
    "                return check_nested_lists\n",
    "        # End of shortest list reached, return difference in lengths\n",
    "        return len(right) - len(left)\n",
    "    assert False # Shouldn't reach this point"
   ]
  },
  {
   "cell_type": "code",
   "execution_count": 8,
   "id": "a4d72ca0",
   "metadata": {},
   "outputs": [
    {
     "name": "stdout",
     "output_type": "stream",
     "text": [
      "5350\n"
     ]
    }
   ],
   "source": [
    "num_correct_order = 0\n",
    "# Loop over each pair\n",
    "for i, pair in enumerate(data_part1):\n",
    "    if cmp(data_part1[i][0], data_part1[i][1])>0:\n",
    "        # Either right integer > left integer or len(right list) > len(left list) so ordering correct\n",
    "        num_correct_order += i + 1 # Pair indexing starts at 1 and want sum of pair indexes that are correct\n",
    "print(num_correct_order)"
   ]
  },
  {
   "cell_type": "markdown",
   "id": "71aa8cbf",
   "metadata": {},
   "source": [
    "## Part 2"
   ]
  },
  {
   "cell_type": "code",
   "execution_count": 9,
   "id": "d6d326ec",
   "metadata": {},
   "outputs": [],
   "source": [
    "from functools import cmp_to_key"
   ]
  },
  {
   "cell_type": "code",
   "execution_count": 10,
   "id": "da11f83c",
   "metadata": {},
   "outputs": [],
   "source": [
    "# Convert each element in data from a string into a list of packets (rather than pairs of packets, as done in part 1)\n",
    "data_part2 = [eval(s) for l in data for s in l]"
   ]
  },
  {
   "cell_type": "code",
   "execution_count": 11,
   "id": "cc107574",
   "metadata": {},
   "outputs": [
    {
     "data": {
      "text/plain": [
       "[[[[6, 10], [4, 3, [4]]]], [[4, 3, [[4, 9, 9, 7]]]]]"
      ]
     },
     "execution_count": 11,
     "metadata": {},
     "output_type": "execute_result"
    }
   ],
   "source": [
    "data_part2[:2]"
   ]
  },
  {
   "cell_type": "code",
   "execution_count": 12,
   "id": "931aa9da",
   "metadata": {},
   "outputs": [],
   "source": [
    "# Add dividing packets to the list\n",
    "data_part2.append([[2]])\n",
    "data_part2.append([[6]])"
   ]
  },
  {
   "cell_type": "code",
   "execution_count": 13,
   "id": "89a5a7de",
   "metadata": {},
   "outputs": [],
   "source": [
    "# Sort the list using the cmp function. This compares each element with every other element using the two elements in cmp().\n",
    "# It then orders the elements based on the result returned by cmp().\n",
    "# Need to reverse the result (not sure why, the documentation for cmp_to_key is bad).\n",
    "data_part2.sort(key=cmp_to_key(cmp), reverse=True)"
   ]
  },
  {
   "cell_type": "code",
   "execution_count": 14,
   "id": "0160b588",
   "metadata": {},
   "outputs": [
    {
     "data": {
      "text/plain": [
       "[[], [[]], [[], []], [[], [], [], []], [[], [], [[[0, 0]], [0, 6]], [10, []]]]"
      ]
     },
     "execution_count": 14,
     "metadata": {},
     "output_type": "execute_result"
    }
   ],
   "source": [
    "data_part2[:5]"
   ]
  },
  {
   "cell_type": "code",
   "execution_count": 15,
   "id": "8134270d",
   "metadata": {},
   "outputs": [
    {
     "name": "stdout",
     "output_type": "stream",
     "text": [
      "19570\n"
     ]
    }
   ],
   "source": [
    "# Find indices of dividing packets and print the product\n",
    "prod = 1\n",
    "for i, packet in enumerate(data_part2):\n",
    "    if packet == [[2]] or packet == [[6]]:\n",
    "        prod *= i+1 # Packet indexing starts at 1\n",
    "print(prod)"
   ]
  },
  {
   "cell_type": "code",
   "execution_count": null,
   "id": "abaa00f8",
   "metadata": {},
   "outputs": [],
   "source": []
  }
 ],
 "metadata": {
  "kernelspec": {
   "display_name": "Python 3 (ipykernel)",
   "language": "python",
   "name": "python3"
  },
  "language_info": {
   "codemirror_mode": {
    "name": "ipython",
    "version": 3
   },
   "file_extension": ".py",
   "mimetype": "text/x-python",
   "name": "python",
   "nbconvert_exporter": "python",
   "pygments_lexer": "ipython3",
   "version": "3.9.7"
  }
 },
 "nbformat": 4,
 "nbformat_minor": 5
}
