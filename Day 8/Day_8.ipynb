{
 "cells": [
  {
   "cell_type": "markdown",
   "id": "d606f76f",
   "metadata": {},
   "source": [
    "# Advent of Code 2022 - Day 8"
   ]
  },
  {
   "cell_type": "code",
   "execution_count": 32,
   "id": "1cafb22a",
   "metadata": {},
   "outputs": [],
   "source": [
    "import numpy as np"
   ]
  },
  {
   "cell_type": "code",
   "execution_count": 33,
   "id": "e50b5b3f",
   "metadata": {},
   "outputs": [],
   "source": [
    "# Read data\n",
    "with open('input.txt', 'r') as f:\n",
    "    data = f.read().strip().split('\\n')"
   ]
  },
  {
   "cell_type": "code",
   "execution_count": 34,
   "id": "045a86cd",
   "metadata": {},
   "outputs": [
    {
     "data": {
      "text/plain": [
       "['332003300013411421030123310000325304355245416315402454123304251100551413414301042114403240340202013',\n",
       " '130120131034131214123330450045513234151453520504226501101432120555550112535000130014212133321332113',\n",
       " '221120234102441024240343113122535350650301140511165442365451334130334102412103112220300240240410033',\n",
       " '201003103341210433533532125351404201522621325222421563264456331504145322423000453224222123321220333',\n",
       " '031230441334332445422025052033156043024163224106103336113645142121364161131252032003041114411412021']"
      ]
     },
     "execution_count": 34,
     "metadata": {},
     "output_type": "execute_result"
    }
   ],
   "source": [
    "data[0:5]"
   ]
  },
  {
   "cell_type": "code",
   "execution_count": 35,
   "id": "aab55c1d",
   "metadata": {},
   "outputs": [],
   "source": [
    "data = [[*s] for s in data] # Split each string into characters"
   ]
  },
  {
   "cell_type": "code",
   "execution_count": 36,
   "id": "4c7a2737",
   "metadata": {},
   "outputs": [],
   "source": [
    "data = [list(map(int, i)) for i in data] # Convert to ints"
   ]
  },
  {
   "cell_type": "code",
   "execution_count": 37,
   "id": "404d6d68",
   "metadata": {},
   "outputs": [],
   "source": [
    "data = np.array(data)"
   ]
  },
  {
   "cell_type": "code",
   "execution_count": 38,
   "id": "e1ea1b93",
   "metadata": {},
   "outputs": [
    {
     "data": {
      "text/plain": [
       "array([[3, 3, 2, ..., 0, 1, 3],\n",
       "       [1, 3, 0, ..., 1, 1, 3],\n",
       "       [2, 2, 1, ..., 0, 3, 3],\n",
       "       ...,\n",
       "       [0, 1, 3, ..., 0, 1, 0],\n",
       "       [1, 3, 2, ..., 1, 1, 1],\n",
       "       [0, 0, 1, ..., 1, 2, 2]])"
      ]
     },
     "execution_count": 38,
     "metadata": {},
     "output_type": "execute_result"
    }
   ],
   "source": [
    "data"
   ]
  },
  {
   "cell_type": "code",
   "execution_count": 39,
   "id": "0c5ebc5a",
   "metadata": {},
   "outputs": [],
   "source": [
    "# Part 1\n",
    "def check_visible(j_current,i_current):\n",
    "    \"\"\"\n",
    "    Checks whether the current tree is visible from outside the forest.\n",
    "    \"\"\"\n",
    "    visible_up, visible_down = True, True\n",
    "    visible_left, visible_right = True, True\n",
    "    # Check along rows\n",
    "    for j in range(0,np.size(data,0)):\n",
    "        if j==j_current: continue\n",
    "        if data[j,i_current] >= data[j_current,i_current]:\n",
    "            if j<j_current:\n",
    "                visible_up = False\n",
    "            else:\n",
    "                visible_down = False\n",
    "    \n",
    "    # Check along columns\n",
    "    for i in range(0,data[0].size):\n",
    "        if i==i_current: continue\n",
    "        if data[j_current,i] >= data[j_current,i_current]:\n",
    "            if i<i_current:\n",
    "                visible_left = False\n",
    "            else:\n",
    "                visible_right = False\n",
    "                   \n",
    "    return any([visible_up, visible_down, visible_left, visible_right])\n",
    "                "
   ]
  },
  {
   "cell_type": "code",
   "execution_count": 40,
   "id": "9d51160b",
   "metadata": {},
   "outputs": [],
   "source": [
    "# Part 2\n",
    "def scenic_score(j_current, i_current):\n",
    "    \"\"\"\n",
    "    Calculates the scenic score for the current tree.\n",
    "    \"\"\"\n",
    "    # Check along rows\n",
    "    up,down = 0,0\n",
    "    for j in list(range(0,j_current))[::-1]: # Reverse order as we want to traverse upwards\n",
    "        up = up + 1\n",
    "        if data[j,i_current] >= data[j_current,i_current]:\n",
    "            break\n",
    "    for j in range(j_current+1,np.size(data,0)): # Traverse downwards (no reverse needed)\n",
    "        down = down + 1\n",
    "        if data[j,i_current] >= data[j_current,i_current]:\n",
    "            break\n",
    "            \n",
    "    # Check along columns\n",
    "    left,right = 0,0\n",
    "    for i in list(range(0,i_current))[::-1]: # Reverse order as we want to traverse to the left\n",
    "        left = left + 1\n",
    "        if data[j_current,i] >= data[j_current,i_current]:\n",
    "            break\n",
    "    for i in range(i_current+1,data[0].size): # Traverse to the right (no reverse needed)\n",
    "        right = right + 1\n",
    "        if data[j_current,i] >= data[j_current,i_current]:\n",
    "            break\n",
    "    \n",
    "    return up*down*left*right\n",
    "        "
   ]
  },
  {
   "cell_type": "code",
   "execution_count": 42,
   "id": "cc1d3270",
   "metadata": {},
   "outputs": [
    {
     "name": "stdout",
     "output_type": "stream",
     "text": [
      "1708\n",
      "504000\n"
     ]
    }
   ],
   "source": [
    "visible_counter = 0\n",
    "scenic = 0\n",
    "# Check whether each tree is visible\n",
    "for j,y in enumerate(data):\n",
    "    for i,x in enumerate(y):\n",
    "        # Part 1\n",
    "        # Find the number of visible trees\n",
    "        if j==0 or j==np.size(data,0)-1 or i==0 or i==data[0].size:\n",
    "            visible_counter = visible_counter + 1\n",
    "            continue\n",
    "        if check_visible(j,i):\n",
    "            visible_counter = visible_counter + 1\n",
    "            \n",
    "        # Part 2\n",
    "        # Find the \"most scenic\" tree\n",
    "        this_tree_score = scenic_score(j,i)\n",
    "        if this_tree_score>scenic:\n",
    "            scenic = this_tree_score\n",
    "        \n",
    "            \n",
    "print(visible_counter)\n",
    "print(scenic)"
   ]
  },
  {
   "cell_type": "code",
   "execution_count": null,
   "id": "cbdb8f24",
   "metadata": {},
   "outputs": [],
   "source": []
  }
 ],
 "metadata": {
  "kernelspec": {
   "display_name": "Python 3 (ipykernel)",
   "language": "python",
   "name": "python3"
  },
  "language_info": {
   "codemirror_mode": {
    "name": "ipython",
    "version": 3
   },
   "file_extension": ".py",
   "mimetype": "text/x-python",
   "name": "python",
   "nbconvert_exporter": "python",
   "pygments_lexer": "ipython3",
   "version": "3.9.7"
  }
 },
 "nbformat": 4,
 "nbformat_minor": 5
}
